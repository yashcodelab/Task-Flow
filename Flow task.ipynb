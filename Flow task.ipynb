{
 "cells": [
  {
   "cell_type": "code",
   "execution_count": 6,
   "id": "4f54c1aa",
   "metadata": {},
   "outputs": [],
   "source": [
    "# To-Do List Application\n",
    "\n",
    "# Initialize a list with some example tasks\n",
    "tasks = [\n",
    "    \"Buy groceries\",\n",
    "    \"Complete Python project\",\n",
    "    \"Call the dentist\",\n",
    "    \"Read a book\"\n",
    "]"
   ]
  },
  {
   "cell_type": "code",
   "execution_count": 7,
   "id": "6fea1516",
   "metadata": {},
   "outputs": [],
   "source": [
    "def display_tasks():\n",
    "    \"\"\"Display the current tasks in the to-do list.\"\"\"\n",
    "    if not tasks:\n",
    "        print(\"Your to-do list is empty.\")\n",
    "    else:\n",
    "        print(\"Your To-Do List:\")\n",
    "        for index, task in enumerate(tasks, start=1):\n",
    "            print(f\"{index}. {task}\")"
   ]
  },
  {
   "cell_type": "code",
   "execution_count": 8,
   "id": "6eccf051",
   "metadata": {},
   "outputs": [],
   "source": [
    "def add_task(task):\n",
    "    \"\"\"Add a new task to the to-do list.\"\"\"\n",
    "    tasks.append(task)\n",
    "    print(f'Task \"{task}\" has been added to your to-do list.')"
   ]
  },
  {
   "cell_type": "code",
   "execution_count": 9,
   "id": "94461e48",
   "metadata": {},
   "outputs": [],
   "source": [
    "def update_task(index, new_task):\n",
    "    \"\"\"Update an existing task in the to-do list.\"\"\"\n",
    "    if 0 <= index < len(tasks):\n",
    "        old_task = tasks[index]\n",
    "        tasks[index] = new_task\n",
    "        print(f'Task \"{old_task}\" has been updated to \"{new_task}\".')\n",
    "    else:\n",
    "        print(\"Invalid task number.\")"
   ]
  },
  {
   "cell_type": "code",
   "execution_count": 10,
   "id": "e74205a1",
   "metadata": {},
   "outputs": [],
   "source": [
    "def remove_task(index):\n",
    "    \"\"\"Remove a task from the to-do list.\"\"\"\n",
    "    if 0 <= index < len(tasks):\n",
    "        removed_task = tasks.pop(index)\n",
    "        print(f'Task \"{removed_task}\" has been removed from your to-do list.')\n",
    "    else:\n",
    "        print(\"Invalid task number.\")"
   ]
  },
  {
   "cell_type": "code",
   "execution_count": 16,
   "id": "5ab7697f",
   "metadata": {},
   "outputs": [],
   "source": [
    "def main():\n",
    "    \"\"\"Main function to run the To-Do List application.\"\"\"\n",
    "    while True:\n",
    "        print(\"\\nTo-Do List Menu:\")\n",
    "        print(\"1. Display Tasks\")\n",
    "        print(\"2. Add Task\")\n",
    "        print(\"3. Update Task\")\n",
    "        print(\"4. Remove Task\")\n",
    "        print(\"5. Exit\")\n",
    "\n",
    "        choice = input(\"Choose an option (1-5): \")\n",
    "        if choice == '1':\n",
    "            display_tasks()\n",
    "        elif choice == '2':\n",
    "            task = input(\"Enter the task to add: \")\n",
    "            add_task(task)\n",
    "        elif choice == '3':\n",
    "            display_tasks()\n",
    "            index = int(input(\"Enter the task number to update: \")) - 1\n",
    "            new_task = input(\"Enter the new task: \")\n",
    "            update_task(index, new_task)\n",
    "        elif choice == '4':\n",
    "            display_tasks()\n",
    "            index = int(input(\"Enter the task number to remove: \")) - 1\n",
    "            remove_task(index)\n",
    "        elif choice == '5':\n",
    "            print(\"Exiting the To-Do List application. Goodbye!\")\n",
    "            break\n",
    "        else:\n",
    "            print(\"Invalid choice. Please select a valid option.\")\n"
   ]
  },
  {
   "cell_type": "code",
   "execution_count": null,
   "id": "5b4c153e",
   "metadata": {},
   "outputs": [
    {
     "name": "stdout",
     "output_type": "stream",
     "text": [
      "\n",
      "To-Do List Menu:\n",
      "1. Display Tasks\n",
      "2. Add Task\n",
      "3. Update Task\n",
      "4. Remove Task\n",
      "5. Exit\n",
      "Choose an option (1-5): 1\n",
      "Your To-Do List:\n",
      "1. Buy groceries\n",
      "2. Complete Python project\n",
      "3. Call the dentist\n",
      "4. Read a book\n",
      "\n",
      "To-Do List Menu:\n",
      "1. Display Tasks\n",
      "2. Add Task\n",
      "3. Update Task\n",
      "4. Remove Task\n",
      "5. Exit\n"
     ]
    }
   ],
   "source": [
    "# Run the application\n",
    "if __name__ == \"__main__\":\n",
    "    main()"
   ]
  },
  {
   "cell_type": "code",
   "execution_count": null,
   "id": "e1978a01",
   "metadata": {},
   "outputs": [],
   "source": []
  }
 ],
 "metadata": {
  "kernelspec": {
   "display_name": "Python 3 (ipykernel)",
   "language": "python",
   "name": "python3"
  },
  "language_info": {
   "codemirror_mode": {
    "name": "ipython",
    "version": 3
   },
   "file_extension": ".py",
   "mimetype": "text/x-python",
   "name": "python",
   "nbconvert_exporter": "python",
   "pygments_lexer": "ipython3",
   "version": "3.11.5"
  }
 },
 "nbformat": 4,
 "nbformat_minor": 5
}
